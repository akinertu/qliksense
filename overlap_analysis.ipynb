{
 "cells": [
  {
   "cell_type": "code",
   "execution_count": null,
   "id": "8905e645-3e2c-4823-8907-fb437e61abea",
   "metadata": {},
   "outputs": [],
   "source": [
    "import pandas as pd\n",
    "import numpy as np\n",
    "from datetime import datetime, timedelta, time\n",
    "import matplotlib.pyplot as plt\n",
    "import matplotlib.dates as mdates\n",
    "import requests\n",
    "import json"
   ]
  },
  {
   "cell_type": "markdown",
   "id": "6110822e-974e-4e96-bf74-184d65428771",
   "metadata": {},
   "source": [
    "## 0. Connect Qlik Sense QRS API"
   ]
  },
  {
   "cell_type": "code",
   "execution_count": null,
   "id": "29269500-71ee-44cc-ae27-c3a832d50570",
   "metadata": {},
   "outputs": [],
   "source": [
    "requests.packages.urllib3.disable_warnings()\n",
    "\n",
    "# necessary headers\n",
    "xrf = '<XRFKEY>'\n",
    "headers = {'X-Qlik-xrfkey': xrf,\n",
    "\"Content-Type\": \"application/json\",\n",
    "\"X-Qlik-User\":\"UserDirectory=<USER_DIRECTORY>;UserId=<QLIK_USER_ID>\"}\n",
    "\n",
    "#certificate path\n",
    "cert = (\"client.pem\", \"client_key.pem\")"
   ]
  },
  {
   "cell_type": "code",
   "execution_count": null,
   "id": "fc24a76c-2c24-4b54-a7b6-2981f9372938",
   "metadata": {},
   "outputs": [],
   "source": [
    "import requests\n",
    "import json\n",
    "\n",
    "# Define a function to handle requests and file writing\n",
    "def fetch_and_write(url, headers, cert, file_name):\n",
    "    response = requests.get(url, headers=headers, verify=False, cert=cert)\n",
    "    if response.status_code == 200:\n",
    "        data = response.json()\n",
    "        with open(file_name, 'w') as json_file:\n",
    "            json.dump(data, json_file)\n",
    "    else:\n",
    "        print(f\"Failed to fetch data from {url}. Status code: {response.status_code}\")\n",
    "\n",
    "# Base URL and headers\n",
    "base_url = 'https://<SERVER_ADRESS>:<PORT>/qrs'\n",
    "xrf_key = xrf\n",
    "headers = headers\n",
    "cert = cert\n",
    "\n",
    "# Define endpoints and corresponding output file names\n",
    "endpoints = {\n",
    "    'app/full': 'app.json',\n",
    "    'task/full': 'task.json',\n",
    "    'compositeevent/full': 'compositeevent.json' }\n",
    "\n",
    "# Loop through endpoints and fetch data\n",
    "for endpoint, file_name in endpoints.items():\n",
    "    url = f\"{base_url}/{endpoint}?xrfkey={xrf_key}\"\n",
    "    fetch_and_write(url, headers, cert, file_name)"
   ]
  },
  {
   "cell_type": "markdown",
   "id": "cdb8719c-b8fe-4916-8e70-eb67d95366f5",
   "metadata": {},
   "source": [
    "## 1. GET Qlik Sense Apps"
   ]
  },
  {
   "cell_type": "code",
   "execution_count": null,
   "id": "4974d0fb-d37d-4220-b348-e65319f4c921",
   "metadata": {},
   "outputs": [],
   "source": [
    "# Call the endpoint to get the list of Qlik Sense apps\n",
    "with open('app.json', 'r') as file:\n",
    "    apps = json.load(file)"
   ]
  },
  {
   "cell_type": "code",
   "execution_count": null,
   "id": "7b3a8f1a-dfea-4372-9cc8-168e6ccf76e5",
   "metadata": {},
   "outputs": [],
   "source": [
    "print(\"List of app properties: \\n\" , list(apps[0].keys()))"
   ]
  },
  {
   "cell_type": "code",
   "execution_count": null,
   "id": "392b67ab-2395-4500-be2d-7b7abd0edaa8",
   "metadata": {},
   "outputs": [],
   "source": [
    "# Desired app properties\n",
    "properties = {'id':[],\n",
    "           'name':[],\n",
    "           'published':[],\n",
    "           'description':[],\n",
    "           'stream':[],\n",
    "           'fileSize':[],\n",
    "           'lastReloadDate':[],\n",
    "           'lastReloadTime':[],\n",
    "           'owner':[]}"
   ]
  },
  {
   "cell_type": "code",
   "execution_count": null,
   "id": "73ff617f-d767-42c5-a4a5-3eb0f40a08dc",
   "metadata": {},
   "outputs": [],
   "source": [
    "# Getting & manipulating necessary properties from JSON to the desired format\n",
    "for app in apps:\n",
    "    app[\"lastReloadDate\"] = datetime.strptime(app[\"lastReloadTime\"], '%Y-%m-%dT%H:%M:%S.%fZ').date()\n",
    "    app[\"lastReloadTime\"] = datetime.strptime(app[\"lastReloadTime\"], '%Y-%m-%dT%H:%M:%S.%fZ').time()\n",
    "    app[\"fileSize\"] = round(app[\"fileSize\"]/1000000)\n",
    "    app[\"owner\"] = app[\"owner\"][\"name\"]\n",
    "    if app[\"stream\"] == None: # some apps has no stream\n",
    "        app[\"stream\"] = np.nan\n",
    "    elif type(app[\"stream\"]) == type({}):\n",
    "        app[\"stream\"] = app[\"stream\"][\"name\"]"
   ]
  },
  {
   "cell_type": "code",
   "execution_count": null,
   "id": "5b26f865-954b-4610-8eda-f5cbabf18c3c",
   "metadata": {},
   "outputs": [],
   "source": [
    "# Creating dataframe for apps with desired properties\n",
    "for key, value in properties.items():\n",
    "    for app in apps:\n",
    "        value.append(app[key])\n",
    "app_df = pd.DataFrame(properties).set_index('id')"
   ]
  },
  {
   "cell_type": "code",
   "execution_count": null,
   "id": "061ad2a8-214e-4b74-acac-21d393998af4",
   "metadata": {},
   "outputs": [],
   "source": [
    "print(\"Number of apps: \", len(app_df))\n",
    "print(\"Number of published apps: \", app_df[\"published\"].sum())\n",
    "app_df.head()"
   ]
  },
  {
   "cell_type": "code",
   "execution_count": null,
   "id": "d4782286-05f6-47eb-a817-7e45fceeb1d0",
   "metadata": {},
   "outputs": [],
   "source": [
    "print(\"Total Size of Apps :\", app_df.groupby(\"published\").fileSize.sum()/1000)"
   ]
  },
  {
   "cell_type": "code",
   "execution_count": null,
   "id": "76b7d7ed-1c3f-4e09-8702-4f0977298651",
   "metadata": {},
   "outputs": [],
   "source": [
    "print(\"Number of apps per stream: \", app_df.groupby('stream').name.count())"
   ]
  },
  {
   "cell_type": "code",
   "execution_count": null,
   "id": "6b954faa-9c27-42ca-88fb-8b7d3816ea43",
   "metadata": {},
   "outputs": [],
   "source": [
    "app_df.to_excel('app_df.xlsx')"
   ]
  },
  {
   "cell_type": "markdown",
   "id": "51a9712c-57a4-44fa-a6c8-b9e568052d62",
   "metadata": {},
   "source": [
    "## 2. GET Qlik Sense Tasks"
   ]
  },
  {
   "cell_type": "code",
   "execution_count": null,
   "id": "9a82ae61-81ec-4e22-af4c-efb040625f84",
   "metadata": {},
   "outputs": [],
   "source": [
    "# Call the endpoint to get the list of Qlik Sense tasks\n",
    "with open('task.json', 'r') as file:\n",
    "    tasks = json.load(file)"
   ]
  },
  {
   "cell_type": "code",
   "execution_count": null,
   "id": "c1b4a9b9-9167-4f3d-a228-68d02dcb40de",
   "metadata": {},
   "outputs": [],
   "source": [
    "print(\"List of task properties: \\n\" , list(tasks[0].keys()))"
   ]
  },
  {
   "cell_type": "code",
   "execution_count": null,
   "id": "8ab9547a-b0e7-44f4-abf0-edccf30c5c9d",
   "metadata": {},
   "outputs": [],
   "source": [
    "# Desired task properties\n",
    "properties = {'id':[],\n",
    "              'name':[],\n",
    "              'enabled':[],\n",
    "              'nextExecutionDate':[],\n",
    "              'duration':[],\n",
    "              'app_id':[]}"
   ]
  },
  {
   "cell_type": "code",
   "execution_count": null,
   "id": "d2f6f104-7509-4899-922a-8d89bfc9f5bd",
   "metadata": {},
   "outputs": [],
   "source": [
    "# Getting & manipulating necessary properties from JSON to the desired format\n",
    "for task in tasks:\n",
    "    task[\"nextExecutionDate\"] = datetime.strptime(task[\"operational\"][\"nextExecution\"], '%Y-%m-%dT%H:%M:%S.%fZ')\n",
    "    #task[\"duration\"] = round(task[\"operational\"][\"lastExecutionResult\"][\"duration\"]/(1000*60))\n",
    "    task[\"duration\"] = timedelta(milliseconds=task[\"operational\"][\"lastExecutionResult\"][\"duration\"])\n",
    "    if task[\"app\"] == None:\n",
    "        task[\"app_id\"] = ''\n",
    "    elif type(task[\"app\"]) == type({}):\n",
    "        task[\"app_id\"] = task[\"app\"][\"id\"]"
   ]
  },
  {
   "cell_type": "code",
   "execution_count": null,
   "id": "f7fd8cf6-2dbd-46f0-a288-de548323a99a",
   "metadata": {},
   "outputs": [],
   "source": [
    "# Creating dataframe for tasks with desired properties\n",
    "for key, value in properties.items():\n",
    "    for task in tasks:\n",
    "        value.append(task[key])"
   ]
  },
  {
   "cell_type": "code",
   "execution_count": null,
   "id": "a89403a1-3c3f-47ff-bc6a-1f500daf5235",
   "metadata": {},
   "outputs": [],
   "source": [
    "task_df = pd.DataFrame(properties).set_index('id')\n",
    "print(\"Number of tasks: \", len(task_df))\n",
    "print(\"Number of enabled tasks: \", task_df[\"enabled\"].sum())\n",
    "task_df.head()"
   ]
  },
  {
   "cell_type": "markdown",
   "id": "6f3d56e2-456c-4b0d-816b-3ddd43d425f2",
   "metadata": {},
   "source": [
    "## 3. GET Qlik Sense Task Triggers (Schemaevent)"
   ]
  },
  {
   "cell_type": "code",
   "execution_count": null,
   "id": "dd6c2776-8136-499e-94e9-490f51808ddd",
   "metadata": {},
   "outputs": [],
   "source": [
    "# Call the endpoint to get the list of Qlik Sense schemaevents\n",
    "with open('schemaevent.json', 'r') as file:\n",
    "    schemaevents = json.load(file)"
   ]
  },
  {
   "cell_type": "code",
   "execution_count": null,
   "id": "205caaf1-8659-46b8-9adc-15728b0cb76b",
   "metadata": {},
   "outputs": [],
   "source": [
    "print(\"List of schemaevent properties: \\n\" , list(schemaevents[0].keys()))"
   ]
  },
  {
   "cell_type": "code",
   "execution_count": null,
   "id": "33792d8d-489e-4e47-95be-2e0a326b752e",
   "metadata": {},
   "outputs": [],
   "source": [
    "# Desired schemaevent properties\n",
    "properties = {'id':[],\n",
    "              'schemaFilterDescription':[],\n",
    "              'incrementDescription':[],\n",
    "              'enabled':[],\n",
    "              'reloadTask_id':[],\n",
    "              'startDate':[]}"
   ]
  },
  {
   "cell_type": "code",
   "execution_count": null,
   "id": "c991fd91-8b98-4a3e-a3ac-dc78d8809ad0",
   "metadata": {},
   "outputs": [],
   "source": [
    "for schemaevent in schemaevents:\n",
    "    schemaevent[\"reloadTask_id\"] = schemaevent[\"reloadTask\"][\"id\"]\n",
    "    schemaevent[\"startDate\"] = (datetime.strptime(schemaevent[\"startDate\"], '%Y-%m-%dT%H:%M:%S.%f'))"
   ]
  },
  {
   "cell_type": "code",
   "execution_count": null,
   "id": "829ed1ea-eecc-4a5b-900c-f6cc76bd198a",
   "metadata": {},
   "outputs": [],
   "source": [
    "# Creating dataframe for schemaevents with desired properties\n",
    "for key, value in properties.items():\n",
    "    for schemaevent in schemaevents:\n",
    "        value.append(schemaevent[key])"
   ]
  },
  {
   "cell_type": "code",
   "execution_count": null,
   "id": "691fc6cb-f759-467f-b149-eaa24c0cd558",
   "metadata": {},
   "outputs": [],
   "source": [
    "schemaevent_df = pd.DataFrame(properties).set_index('id')\n",
    "schemaevent_df.head()"
   ]
  },
  {
   "cell_type": "code",
   "execution_count": null,
   "id": "68dac934-330e-45a4-b99a-a31dadd599b5",
   "metadata": {},
   "outputs": [],
   "source": [
    "# schemaFilterDescription has parameters of Trigger Start on Schedule\n",
    "# The parameters should be converted to period \n",
    "schemaevent_df[\"schemaFilterDescription\"] = schemaevent_df[\"schemaFilterDescription\"].copy().apply(lambda x: str(x[0]))\n",
    "schedule_parameters = schemaevent_df['schemaFilterDescription'].str.split(' ', expand=True)\n",
    "schedule_parameters.head()"
   ]
  },
  {
   "cell_type": "code",
   "execution_count": null,
   "id": "0ef19fc3-db85-444b-8c1e-ae9456be787d",
   "metadata": {},
   "outputs": [],
   "source": [
    "def parameter_to_period(x):\n",
    "    # Check if the fourth element in the list(=weekday) is not '*'\n",
    "    if x[3] != '*':\n",
    "        return 'weekly'\n",
    "    # Check if the sixth element in the list(=monthday) is not '*'\n",
    "    elif x[5] != '*':\n",
    "        return 'monthly'\n",
    "    # Check if the \"incrementDescription\" key in the dictionary has the value '0 1 0 0'\n",
    "    elif x[\"incrementDescription\"] == '0 1 0 0':\n",
    "        return 'hourly'\n",
    "    else:\n",
    "        return 'daily'"
   ]
  },
  {
   "cell_type": "code",
   "execution_count": null,
   "id": "1f5031ec-7dd5-4eb4-b106-13443ccc8172",
   "metadata": {},
   "outputs": [],
   "source": [
    "# schedule_parameters merged to schemaevent df\n",
    "schemaevent_df2 = schemaevent_df.merge(schedule_parameters, how='left', left_index=True, right_index=True)"
   ]
  },
  {
   "cell_type": "code",
   "execution_count": null,
   "id": "60320182-80f2-4b5a-9a3a-35e84e994c42",
   "metadata": {},
   "outputs": [],
   "source": [
    "# schedule parameters converted to period\n",
    "period = schemaevent_df2.apply(parameter_to_period, axis=1)\n",
    "schemaevent_df2[\"period\"] = period"
   ]
  },
  {
   "cell_type": "code",
   "execution_count": null,
   "id": "df053267-69da-4006-af12-950b66d1b5a9",
   "metadata": {},
   "outputs": [],
   "source": [
    "# New dataframe with desired properties\n",
    "trigger = schemaevent_df2.copy()[[\"reloadTask_id\",\"enabled\", \"startDate\", \"period\"]]\n",
    "print(\"Number of triggers: \", len(trigger))\n",
    "trigger.head()"
   ]
  },
  {
   "cell_type": "code",
   "execution_count": null,
   "id": "ef163978-d975-4dfe-83f7-4f57e615c4db",
   "metadata": {},
   "outputs": [],
   "source": [
    "# adding period properties \n",
    "trigger[\"hour\"] = schemaevent_df2.copy().loc[:,\"incrementDescription\"].str.split(' ', expand=True)[1]\n",
    "trigger[\"weekday\"] = schemaevent_df2.loc[:,3]\n",
    "trigger[\"monthday\"] = schemaevent_df2.loc[:,5]"
   ]
  },
  {
   "cell_type": "code",
   "execution_count": null,
   "id": "50af5469-e9f3-4b09-b179-c6774979ebc9",
   "metadata": {},
   "outputs": [],
   "source": [
    "trigger.sort_values(by=\"startDate\", inplace=True) \n",
    "trigger = trigger.set_index(\"reloadTask_id\")\n",
    "trigger.head()"
   ]
  },
  {
   "cell_type": "markdown",
   "id": "53e29529-e4e5-41dd-b472-dcee91696c65",
   "metadata": {},
   "source": [
    "### 3.1 GET Event Task Triggers (compositeevent)"
   ]
  },
  {
   "cell_type": "code",
   "execution_count": null,
   "id": "1b73f6d2-34aa-4232-b611-424ab20e491f",
   "metadata": {},
   "outputs": [],
   "source": [
    "# Call the endpoint to get the list of Qlik Sense compositeevent(Task Triggers)\n",
    "with open('compositeevent.json', 'r') as file:\n",
    "    compositeevents = json.load(file)"
   ]
  },
  {
   "cell_type": "code",
   "execution_count": null,
   "id": "b07d3e86-f5bb-45fc-8b61-c92594bc583b",
   "metadata": {},
   "outputs": [],
   "source": [
    "print(\"List of compositeevent properties: \\n\" , list(schemaevents[0].keys()))"
   ]
  },
  {
   "cell_type": "code",
   "execution_count": null,
   "id": "e3679c17-8141-4bdf-acf7-a80ed63da02f",
   "metadata": {},
   "outputs": [],
   "source": [
    "# Desired compositeevent properties\n",
    "properties = {'id':[],\n",
    "              'reloadTask_id':[],\n",
    "              'enabled':[],\n",
    "              'preceeding_reloadTask_id':[]}"
   ]
  },
  {
   "cell_type": "code",
   "execution_count": null,
   "id": "42dcce51-027d-4d1a-936c-87ddc3338dfd",
   "metadata": {},
   "outputs": [],
   "source": [
    "# Getting & manipulating necessary properties from JSON to the desired format\n",
    "for compositeevent in compositeevents:\n",
    "    compositeevent[\"reloadTask_id\"] = compositeevent[\"reloadTask\"][\"id\"]\n",
    "    compositeevent[\"preceeding_reloadTask_id\"] = compositeevent[\"compositeRules\"][0][\"reloadTask\"][\"id\"]"
   ]
  },
  {
   "cell_type": "code",
   "execution_count": null,
   "id": "b031db64-edfd-4036-bfe5-148f2e2066ef",
   "metadata": {},
   "outputs": [],
   "source": [
    "for key, value in properties.items():\n",
    "    for compositeevent in compositeevents:\n",
    "        value.append(compositeevent[key])"
   ]
  },
  {
   "cell_type": "code",
   "execution_count": null,
   "id": "64d80b92-3c37-40d9-b1af-6156443c12fa",
   "metadata": {},
   "outputs": [],
   "source": [
    "compositeevent_df = pd.DataFrame(properties).set_index('id')\n",
    "compositeevent_df = compositeevent_df.set_index(\"reloadTask_id\")\n",
    "print(\"Number of task triggers: \", len(compositeevent_df))\n",
    "compositeevent_df.head()"
   ]
  },
  {
   "cell_type": "code",
   "execution_count": null,
   "id": "4560e6af-205c-4a0f-aa3f-8dd50134692f",
   "metadata": {},
   "outputs": [],
   "source": [
    "# Concating Scheduled & Task Triggers\n",
    "trigger_all = pd.concat([trigger, compositeevent_df])\n",
    "print(\"Number of triggers: \", len(trigger_all))\n",
    "trigger_all.head()"
   ]
  },
  {
   "cell_type": "markdown",
   "id": "b67ef271-45b1-4aca-b7eb-1a504552a1aa",
   "metadata": {},
   "source": [
    "## 4. Creating Schedule Dataframe"
   ]
  },
  {
   "cell_type": "code",
   "execution_count": null,
   "id": "cb3b8d19-a84a-45c2-a64c-71130cdafb60",
   "metadata": {},
   "outputs": [],
   "source": [
    "task_app_df = task_df.merge(app_df, how='left', left_on='app_id', right_index=True, suffixes=('', '_app'))"
   ]
  },
  {
   "cell_type": "code",
   "execution_count": null,
   "id": "6ae7fc45-c04a-429f-8b2d-3eeddd43db08",
   "metadata": {},
   "outputs": [],
   "source": [
    "task_app_df.head(2)"
   ]
  },
  {
   "cell_type": "code",
   "execution_count": null,
   "id": "64174be8-60ed-4125-a7dd-b0734cc9fbbf",
   "metadata": {},
   "outputs": [],
   "source": [
    "task_app_trigger_df = task_app_df.merge(trigger_all, how='inner', left_index=True, right_index=True, suffixes=('', '_trigger'))"
   ]
  },
  {
   "cell_type": "code",
   "execution_count": null,
   "id": "8fe8f03d-228f-4fc5-8c7f-6f5648107dcb",
   "metadata": {},
   "outputs": [],
   "source": [
    "print(\"Number of tasks: \", len(task_app_trigger_df))\n",
    "#df2.head()"
   ]
  },
  {
   "cell_type": "code",
   "execution_count": null,
   "id": "a6a385f7-ae78-4cc9-a0f0-8723f71ae99c",
   "metadata": {},
   "outputs": [],
   "source": [
    "task_app_trigger_df.head(2)"
   ]
  },
  {
   "cell_type": "code",
   "execution_count": null,
   "id": "4ba251e9-2823-4723-8ea7-eea9e1029643",
   "metadata": {},
   "outputs": [],
   "source": [
    "task_app_trigger_df.loc[\"77b7bea3-1f70-4d9b-839a-37d1076d9dd9\", \"stream\"] = 'QVD' #correction"
   ]
  },
  {
   "cell_type": "markdown",
   "id": "08cd13f8-651e-452d-a93d-f5ec17cb8cf0",
   "metadata": {},
   "source": [
    "## 5. Filtering for Enabled Tasks & Published Apps"
   ]
  },
  {
   "cell_type": "code",
   "execution_count": null,
   "id": "997b8301-5d94-48cb-9c35-142aabbb1876",
   "metadata": {},
   "outputs": [],
   "source": [
    "task_schedule = task_app_trigger_df[\n",
    "    (task_app_trigger_df[\"enabled\"] != False) & \\\n",
    "    (task_app_trigger_df[\"published\"] != False) & \\\n",
    "    (task_app_trigger_df[\"enabled_trigger\"] != False) & \\\n",
    "    (~task_app_trigger_df[\"stream\"].isin([\"Kullanılmayan Raporlar\", \"Archive\"]))]\n",
    "len(task_schedule)"
   ]
  },
  {
   "cell_type": "code",
   "execution_count": null,
   "id": "388eb1c8-921a-451e-9d26-2ffa5a14ec61",
   "metadata": {},
   "outputs": [],
   "source": [
    "task_schedule = task_schedule.copy()\n",
    "task_schedule[\"endDate\"] = task_schedule[\"startDate\"] + task_schedule[\"duration\"]\n",
    "task_schedule.loc[:,\"duration_min\"] = task_schedule[\"duration\"].apply(lambda x: round(x.total_seconds() / 60 + 0.5))"
   ]
  },
  {
   "cell_type": "code",
   "execution_count": null,
   "id": "ff1c70cf-b31b-49f7-9a6b-01462b231da4",
   "metadata": {},
   "outputs": [],
   "source": [
    "task_schedule.head(2)"
   ]
  },
  {
   "cell_type": "code",
   "execution_count": null,
   "id": "75f7499d-8cc4-4aae-97ab-75317d834ac3",
   "metadata": {},
   "outputs": [],
   "source": [
    "task_schedule.to_excel('task_schedule.xlsx')"
   ]
  },
  {
   "cell_type": "markdown",
   "id": "3609a59c-a688-4842-9b1b-eeb65e953b7d",
   "metadata": {},
   "source": [
    "## 6. Getting Start and End time for task triggers"
   ]
  },
  {
   "cell_type": "code",
   "execution_count": null,
   "id": "1ed66d6c-a1b6-434f-ae10-0a95b4ce6992",
   "metadata": {},
   "outputs": [],
   "source": [
    "columns = ['name',\n",
    "           'startDate',\n",
    "           'endDate',\n",
    "           'duration',\n",
    "           'duration_min',\n",
    "           'period',\n",
    "           'hour',\n",
    "           'weekday',\n",
    "           'monthday',\n",
    "           'preceeding_reloadTask_id']"
   ]
  },
  {
   "cell_type": "code",
   "execution_count": null,
   "id": "9eb6e1cc-63da-4671-8124-f22098f5e158",
   "metadata": {},
   "outputs": [],
   "source": [
    "schedule = task_schedule[columns].copy()"
   ]
  },
  {
   "cell_type": "code",
   "execution_count": null,
   "id": "526d41b2-86cd-47cd-a89c-9cfdeeb59324",
   "metadata": {},
   "outputs": [],
   "source": [
    "schedule.head(2)"
   ]
  },
  {
   "cell_type": "code",
   "execution_count": null,
   "id": "4c66aa2a-ef8c-4d4e-9258-987f07a51770",
   "metadata": {},
   "outputs": [],
   "source": [
    "schedule.info()"
   ]
  },
  {
   "cell_type": "code",
   "execution_count": null,
   "id": "66f90070-52b0-49ef-b651-de678587e611",
   "metadata": {},
   "outputs": [],
   "source": [
    "for i in range (10):\n",
    "    startDate = []\n",
    "    endDate = []\n",
    "    period = []\n",
    "    for index, row in schedule.iterrows():\n",
    "        if pd.isna(row[\"preceeding_reloadTask_id\"]):\n",
    "            startDate.append(row[\"startDate\"])\n",
    "            endDate.append(row[\"endDate\"])\n",
    "            period.append(row[\"period\"])\n",
    "        else:\n",
    "            preceding_id = row[\"preceeding_reloadTask_id\"]\n",
    "            preceding_end_date = schedule.loc[preceding_id, \"endDate\"]\n",
    "            periods = schedule.loc[preceding_id, \"period\"]\n",
    "            if isinstance(preceding_end_date, pd.Series):\n",
    "                startDate.append(preceding_end_date.values[0])\n",
    "                endDate.append(preceding_end_date.values[0] + row[\"duration\"])\n",
    "                period.append(periods.values[0])\n",
    "            elif pd.isna(preceding_end_date):  # Correct condition\n",
    "                startDate.append(np.nan)\n",
    "                endDate.append(np.nan)\n",
    "                period.append(np.nan)\n",
    "            else:\n",
    "                startDate.append(preceding_end_date)\n",
    "                endDate.append(preceding_end_date + row[\"duration\"])\n",
    "                period.append(periods)\n",
    "    schedule[\"startDate\"] = startDate              \n",
    "    schedule[\"endDate\"] = endDate\n",
    "    schedule[\"period\"] = period"
   ]
  },
  {
   "cell_type": "code",
   "execution_count": null,
   "id": "4dab47fb-388d-4054-876a-c605096bc94d",
   "metadata": {},
   "outputs": [],
   "source": [
    "schedule[\"startTime\"] = schedule[\"startDate\"].apply(lambda x: x.replace(second=0, microsecond=0).time())\n",
    "schedule[\"endTime\"] = schedule[\"endDate\"].apply(lambda x: x.replace(second=0, microsecond=0).time())"
   ]
  },
  {
   "cell_type": "code",
   "execution_count": null,
   "id": "aa39adca-499c-40ec-9ce2-e5d7779a595c",
   "metadata": {},
   "outputs": [],
   "source": [
    "daily_schedule = schedule[schedule[\"period\"] == 'daily'][[\"startTime\",\"endTime\",\"duration\"]]\n",
    "daily_schedule = daily_schedule.sort_values(\"startTime\")"
   ]
  },
  {
   "cell_type": "code",
   "execution_count": null,
   "id": "f6fd4f08-7c3a-4cd1-8c56-58e59a2b700d",
   "metadata": {},
   "outputs": [],
   "source": [
    "daily_schedule.head()"
   ]
  },
  {
   "cell_type": "markdown",
   "id": "f27729a9-a9d9-4ae0-9e67-455bff0dd7c6",
   "metadata": {},
   "source": [
    "## 7. Creating a Gantt Chart for tasks"
   ]
  },
  {
   "cell_type": "code",
   "execution_count": null,
   "id": "2334c5d3-aad6-4d61-b8db-f1f312449cb6",
   "metadata": {},
   "outputs": [],
   "source": [
    "# Filter tasks within the 05:00 to 14:00 range\n",
    "start_range = time(3, 0)\n",
    "end_range = time(12, 0)\n",
    "\n",
    "filtered_df = daily_schedule[(daily_schedule['startTime'] >= start_range) & (daily_schedule['startTime'] <= end_range)]\n",
    "filtered_df = filtered_df.reset_index()"
   ]
  },
  {
   "cell_type": "code",
   "execution_count": null,
   "id": "631a9bd9-8862-4cd7-b04d-a45f26b98f67",
   "metadata": {},
   "outputs": [],
   "source": [
    "# Convert times back to datetime for plotting\n",
    "filtered_df['startTime'] = filtered_df['startTime'].apply(lambda t: datetime.combine(datetime.today(), t))\n",
    "filtered_df['endTime'] = filtered_df['endTime'].apply(lambda t: datetime.combine(datetime.today(), t))"
   ]
  },
  {
   "cell_type": "code",
   "execution_count": null,
   "id": "831766c2-8623-4dd1-9aa6-e72276ec4d8c",
   "metadata": {},
   "outputs": [],
   "source": [
    "# Plotting the Gantt chart\n",
    "fig, ax = plt.subplots(figsize=(10, 7))\n",
    "\n",
    "for i, row in filtered_df.iterrows():\n",
    "    ax.plot([row['startTime'], row['endTime']], [i, i], color='blue', linewidth=3)\n",
    "\n",
    "# Formatting the x-axis to show time in the range of 05:00 - 14:00\n",
    "ax.xaxis.set_major_locator(mdates.HourLocator(interval=1))\n",
    "ax.xaxis.set_major_formatter(mdates.DateFormatter('%H:%M'))\n",
    "ax.set_xlim([datetime.combine(datetime.today(), start_range), datetime.combine(datetime.today(), end_range)])\n",
    "ax.set_ylim(-1, len(filtered_df))\n",
    "ax.set_yticks(range(len(filtered_df)))\n",
    "ax.set_yticklabels(filtered_df.index)\n",
    "\n",
    "plt.xlabel('Time')\n",
    "plt.ylabel('Task ID')\n",
    "plt.title('Gantt Chart for Tasks (08:00 - 10:00)')\n",
    "plt.grid(True)\n",
    "plt.show()"
   ]
  },
  {
   "cell_type": "markdown",
   "id": "82bb4136-a1cb-48d0-a287-f8aae72d4476",
   "metadata": {},
   "source": [
    "## 8. Task Overlap Analysis"
   ]
  },
  {
   "cell_type": "code",
   "execution_count": null,
   "id": "a409123e-1f86-43ae-818f-9c341316c504",
   "metadata": {},
   "outputs": [],
   "source": [
    "# Create a timeline with one-minute increments\n",
    "timeline = pd.date_range(start='2024-08-04 06:00:00', end='2024-08-04 12:00:00', freq='min')"
   ]
  },
  {
   "cell_type": "code",
   "execution_count": null,
   "id": "43efa7f5-4a8f-4492-9177-bc0b1c438cfc",
   "metadata": {},
   "outputs": [],
   "source": [
    "minutes = []\n",
    "overlap_counts = []\n",
    "overlapping_tasks = []\n",
    "for dtime in timeline:\n",
    "    count = ((filtered_df['startTime'] <= dtime) & (filtered_df['endTime'] > dtime)).sum()\n",
    "    if count > 6:\n",
    "        minutes.append(dtime)\n",
    "        overlap_counts.append(count)\n",
    "        o_task = list(filtered_df[(filtered_df['startTime'] <= dtime) & (filtered_df['endTime'] > dtime)][\"id\"].values)\n",
    "        overlapping_tasks.append(o_task)"
   ]
  },
  {
   "cell_type": "code",
   "execution_count": null,
   "id": "ad348f6b-6b87-482e-b9d6-08cec49fac31",
   "metadata": {},
   "outputs": [],
   "source": [
    "pd.DataFrame(zip(minutes,overlap_counts,overlapping_tasks),columns=['minute','task_count','task_ids'])"
   ]
  }
 ],
 "metadata": {
  "kernelspec": {
   "display_name": "Python 3 (ipykernel)",
   "language": "python",
   "name": "python3"
  },
  "language_info": {
   "codemirror_mode": {
    "name": "ipython",
    "version": 3
   },
   "file_extension": ".py",
   "mimetype": "text/x-python",
   "name": "python",
   "nbconvert_exporter": "python",
   "pygments_lexer": "ipython3",
   "version": "3.12.2"
  }
 },
 "nbformat": 4,
 "nbformat_minor": 5
}
